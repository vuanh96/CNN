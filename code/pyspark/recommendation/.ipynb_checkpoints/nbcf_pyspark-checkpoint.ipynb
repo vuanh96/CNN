{
 "cells": [
  {
   "cell_type": "markdown",
   "metadata": {},
   "source": [
    "## Training"
   ]
  },
  {
   "cell_type": "code",
   "execution_count": 9,
   "metadata": {},
   "outputs": [],
   "source": [
    "import time\n",
    "from pyspark.sql import SparkSession\n",
    "import numpy as np\n",
    "from pyspark.mllib.linalg.distributed import CoordinateMatrix, MatrixEntry"
   ]
  },
  {
   "cell_type": "code",
   "execution_count": 10,
   "metadata": {},
   "outputs": [],
   "source": [
    "spark = SparkSession \\\n",
    "        .builder \\\n",
    "        .master('local[*]') \\\n",
    "        .appName(\"NBCF_pyspark\") \\\n",
    "        .getOrCreate()"
   ]
  },
  {
   "cell_type": "code",
   "execution_count": 11,
   "metadata": {},
   "outputs": [],
   "source": [
    "# Load training data\n",
    "train = spark.sparkContext.textFile(\"ml-100k/ub.base\")"
   ]
  },
  {
   "cell_type": "code",
   "execution_count": 12,
   "metadata": {},
   "outputs": [
    {
     "data": {
      "text/plain": [
       "[(1, (1, 4.0)), (2, (1, 2.0)), (3, (1, 3.0)), (4, (1, 2.0)), (5, (1, 2.0))]"
      ]
     },
     "execution_count": 12,
     "metadata": {},
     "output_type": "execute_result"
    }
   ],
   "source": [
    "# movieID => userID, rating\n",
    "train = train.map(lambda r: r.split()).map(lambda r: (int(r[1]), (int(r[0]), float(r[2])-1)))\n",
    "train.take(5)"
   ]
  },
  {
   "cell_type": "code",
   "execution_count": 13,
   "metadata": {},
   "outputs": [
    {
     "data": {
      "text/plain": [
       "[(2, 2.216),\n",
       " (4, 2.545918367346939),\n",
       " (6, 2.5714285714285716),\n",
       " (8, 2.9754901960784315),\n",
       " (10, 2.792207792207792)]"
      ]
     },
     "execution_count": 13,
     "metadata": {},
     "output_type": "execute_result"
    }
   ],
   "source": [
    "# Determine mean of ratings by user\n",
    "# movieID => mean\n",
    "sepOp = lambda x, y: (x[0]+y[1], x[1]+1)\n",
    "combOp = lambda x, y: (x[0]+y[0], x[1]+y[1])\n",
    "means = train.aggregateByKey((0, 0), sepOp, combOp).mapValues(lambda v: v[0]/v[1] if v[1] > 0 else 0)\n",
    "means.take(5)"
   ]
  },
  {
   "cell_type": "code",
   "execution_count": 14,
   "metadata": {},
   "outputs": [
    {
     "data": {
      "text/plain": [
       "[(1, (4, -0.545918367346939)),\n",
       " (7, (4, 1.454081632653061)),\n",
       " (10, (4, 0.454081632653061)),\n",
       " (12, (4, 1.454081632653061)),\n",
       " (13, (4, 1.454081632653061))]"
      ]
     },
     "execution_count": 14,
     "metadata": {},
     "output_type": "execute_result"
    }
   ],
   "source": [
    "# userID => (movieID, rating_normalized)\n",
    "train = train.join(means).map(lambda l: (l[1][0][0], (l[0], l[1][0][1] - l[1][1])))\n",
    "train.take(5)"
   ]
  },
  {
   "cell_type": "code",
   "execution_count": 15,
   "metadata": {},
   "outputs": [
    {
     "name": "stdout",
     "output_type": "stream",
     "text": [
      "[((876, 977), 0.09010407028490032), ((220, 977), 0.11821570614648644), ((869, 1044), 0.03939488310827576), ((233, 1265), 0.037119076720572915), ((347, 428), 0.013109362655315765)]\n"
     ]
    }
   ],
   "source": [
    "# Create entries of coordinate matrix\n",
    "entries = train.map(lambda r: MatrixEntry(r[0], r[1][0], r[1][1]))\n",
    "# Convert to CoordinateMatrix => RowMatrix\n",
    "mat = CoordinateMatrix(entries).toRowMatrix()\n",
    "# Compute similarity of movie pairs\n",
    "moviePairSimilarities = mat.columnSimilarities().entries.map(lambda r: ((r.i, r.j), r.value))\n",
    "print(moviePairSimilarities.take(5))"
   ]
  },
  {
   "cell_type": "markdown",
   "metadata": {},
   "source": [
    "## Evaluate"
   ]
  },
  {
   "cell_type": "code",
   "execution_count": 16,
   "metadata": {},
   "outputs": [
    {
     "data": {
      "text/plain": [
       "9430"
      ]
     },
     "execution_count": 16,
     "metadata": {},
     "output_type": "execute_result"
    }
   ],
   "source": [
    "# Load testing data\n",
    "test = spark.sparkContext.textFile('ml-100k/ub.test')\n",
    "\n",
    "# movieY => (ratingX, ratingXY)\n",
    "test = test.map(lambda l: l.split()).map(lambda l: (int(l[1]), (int(l[0]), float(l[2])-1)))\n",
    "n_test = test.count()\n",
    "n_test"
   ]
  },
  {
   "cell_type": "code",
   "execution_count": 17,
   "metadata": {},
   "outputs": [
    {
     "data": {
      "text/plain": [
       "[(1, (64, 0.5736434108527133)),\n",
       " (43, (64, 0.5736434108527133)),\n",
       " (53, (64, 0.5736434108527133)),\n",
       " (71, (64, -0.4263565891472867)),\n",
       " (76, (64, 0.5736434108527133))]"
      ]
     },
     "execution_count": 17,
     "metadata": {},
     "output_type": "execute_result"
    }
   ],
   "source": [
    "# Subtract rating to mean by movie\n",
    "# userX => (movieY, ratingXY)\n",
    "test = test.join(means).map(lambda l: (l[1][0][0], (l[0], l[1][0][1] - l[1][1])))\n",
    "test.take(5)"
   ]
  },
  {
   "cell_type": "code",
   "execution_count": 18,
   "metadata": {},
   "outputs": [
    {
     "data": {
      "text/plain": [
       "[(96, ((64, 0.5736434108527133), (8, 1.0245098039215685))),\n",
       " (96, ((64, 0.5736434108527133), (56, 0.9078212290502794))),\n",
       " (96, ((64, 0.5736434108527133), (96, 0.007246376811594235))),\n",
       " (96, ((64, 0.5736434108527133), (144, 0.1644444444444444))),\n",
       " (96, ((64, 0.5736434108527133), (156, 0.02898550724637694)))]"
      ]
     },
     "execution_count": 18,
     "metadata": {},
     "output_type": "execute_result"
    }
   ],
   "source": [
    "# userX => ((movieY, ratingXY), (movieA, ratingXA)) - A is movieID rated by userX\n",
    "evaluate = test.join(train)\n",
    "evaluate.take(5)"
   ]
  },
  {
   "cell_type": "code",
   "execution_count": 19,
   "metadata": {},
   "outputs": [
    {
     "data": {
      "text/plain": [
       "[((8, 64), (1, 96, 0.5736434108527133, 1.0245098039215685)),\n",
       " ((56, 64), (1, 96, 0.5736434108527133, 0.9078212290502794)),\n",
       " ((64, 96), (0, 96, 0.5736434108527133, 0.007246376811594235)),\n",
       " ((64, 144), (0, 96, 0.5736434108527133, 0.1644444444444444)),\n",
       " ((64, 156), (0, 96, 0.5736434108527133, 0.02898550724637694))]"
      ]
     },
     "execution_count": 19,
     "metadata": {},
     "output_type": "execute_result"
    }
   ],
   "source": [
    "# (movieY, movieA) => (i, userX, ratingXY, ratingXA) - i is index of movieY in key\n",
    "def map1(row):\n",
    "    userX, ((movieY, ratingXY), (movieA, ratingXA))= row\n",
    "    if movieY < movieA:\n",
    "        return (movieY, movieA), (0, userX, ratingXY, ratingXA)\n",
    "    return (movieA, movieY), (1, userX, ratingXY, ratingXA)\n",
    "\n",
    "evaluate = evaluate.map(map1)\n",
    "evaluate.take(5)"
   ]
  },
  {
   "cell_type": "code",
   "execution_count": 20,
   "metadata": {
    "scrolled": true
   },
   "outputs": [
    {
     "data": {
      "text/plain": [
       "[((96, 64, 0.5736434108527133), [(0.7447916666666665, 0.1482283630863993)]),\n",
       " ((1, 64, 0.5736434108527133), [(0.7447916666666665, 0.1482283630863993)]),\n",
       " ((465, 64, 0.5736434108527133), [(-1.2552083333333335, 0.1482283630863993)]),\n",
       " ((705, 64, 0.5736434108527133), [(0.7447916666666665, 0.1482283630863993)]),\n",
       " ((737, 64, -0.4263565891472867), [(-2.2552083333333335, 0.1482283630863993)])]"
      ]
     },
     "execution_count": 20,
     "metadata": {},
     "output_type": "execute_result"
    }
   ],
   "source": [
    "# (movieY, movieA) => ((i, userX, ratingXY, ratingXA), simYA)\n",
    "evaluate = evaluate.join(moviePairSimilarities)\n",
    "\n",
    "# (userX, movieY, ratingXY) => [(ratingXA, simYA)]\n",
    "def map2(row):\n",
    "    (movieY, movieA), ((i, userX, ratingXY, ratingXA), simYA) = row\n",
    "    if i == 0:\n",
    "        return (userX, movieY, ratingXY), [(ratingXA, simYA)]\n",
    "    return (userX, movieA, ratingXY), [(ratingXA, simYA)]\n",
    "\n",
    "evaluate = evaluate.map(map2)\n",
    "evaluate.take(5)"
   ]
  },
  {
   "cell_type": "code",
   "execution_count": 21,
   "metadata": {},
   "outputs": [
    {
     "data": {
      "text/plain": [
       "((737, 64, -0.4263565891472867),\n",
       " [(1.1446808510638298, 0.24017966911631647),\n",
       "  (-0.15298507462686572, 0.2153544782127603),\n",
       "  (-0.3875000000000002, 0.2047933967898615),\n",
       "  (-2.2552083333333335, 0.1482283630863993),\n",
       "  (-0.04347826086956541, 0.13802406856629623),\n",
       "  (0.7071129707112971, 0.1333814430197715),\n",
       "  (0.6970509383378016, 0.13024533078065567),\n",
       "  (1.1662591687041566, 0.12443899228501198),\n",
       "  (-0.6529968454258674, 0.12197337786846901),\n",
       "  (0.8649885583524028, 0.11168633738064088),\n",
       "  (0.20353982300884965, 0.10215531468072248),\n",
       "  (-2.504424778761062, 0.08872288693884825),\n",
       "  (-0.6000000000000001, 0.05913225607584117),\n",
       "  (-1.2849740932642488, 0.059113781897703124),\n",
       "  (1.1884816753926701, 0.047074354112719145),\n",
       "  (0.12217194570135748, 0.028553815696978554),\n",
       "  (0.11475409836065564, 0.015261002780855876),\n",
       "  (0.875, -0.0020792717596943254),\n",
       "  (0.22222222222222232, -0.009653901372037352),\n",
       "  (1.0743243243243241, -0.015462037891107401),\n",
       "  (0.53125, -0.0414152415356465),\n",
       "  (-0.5137614678899083, -0.04569583391962712),\n",
       "  (-0.14457831325301207, -0.04705452751181956)])"
      ]
     },
     "execution_count": 21,
     "metadata": {},
     "output_type": "execute_result"
    }
   ],
   "source": [
    "# (userX, movieY, ratingXY) => [(ratingXA, simYA), (ratingXB, simYB), ...] - A,B is movieID rated by userX\n",
    "evaluate = evaluate.reduceByKey(lambda a, b: a + b)\n",
    "\n",
    "# Take top k movies greatest similarity\n",
    "k = 30\n",
    "evaluate = evaluate.mapValues(lambda l: sorted(l, key=lambda x: x[1], reverse=True)[:k])\n",
    "evaluate.first()"
   ]
  },
  {
   "cell_type": "code",
   "execution_count": 22,
   "metadata": {},
   "outputs": [
    {
     "data": {
      "text/plain": [
       "0.9507148125003996"
      ]
     },
     "execution_count": 22,
     "metadata": {},
     "output_type": "execute_result"
    }
   ],
   "source": [
    "# Predict rating and calculating RMSE\n",
    "def predict(row):\n",
    "    rating_ori = row[0][2]\n",
    "    val = np.array(row[1])\n",
    "    ratings = val[:,0]\n",
    "    sims = val[:,1]\n",
    "    rating_pred = np.dot(ratings, sims) / (np.abs(sims).sum() + 1e-8)\n",
    "    return (rating_pred - rating_ori)**2\n",
    "\n",
    "evaluate = evaluate.map(predict).reduce(lambda a, b: a + b)\n",
    "\n",
    "# Calculate RMSE\n",
    "RMSE = np.sqrt(evaluate/n_test)\n",
    "RMSE"
   ]
  }
 ],
 "metadata": {
  "kernelspec": {
   "display_name": "Python 3",
   "language": "python",
   "name": "python3"
  },
  "language_info": {
   "codemirror_mode": {
    "name": "ipython",
    "version": 3
   },
   "file_extension": ".py",
   "mimetype": "text/x-python",
   "name": "python",
   "nbconvert_exporter": "python",
   "pygments_lexer": "ipython3",
   "version": "3.6.5"
  }
 },
 "nbformat": 4,
 "nbformat_minor": 2
}
