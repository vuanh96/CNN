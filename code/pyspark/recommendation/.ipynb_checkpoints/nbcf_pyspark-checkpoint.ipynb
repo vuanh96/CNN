{
 "cells": [
  {
   "cell_type": "markdown",
   "metadata": {},
   "source": [
    "## Training"
   ]
  },
  {
   "cell_type": "code",
   "execution_count": 40,
   "metadata": {},
   "outputs": [],
   "source": [
    "import time\n",
    "from pyspark.sql import SparkSession\n",
    "import numpy as np\n",
    "from pyspark.mllib.linalg.distributed import CoordinateMatrix, MatrixEntry"
   ]
  },
  {
   "cell_type": "code",
   "execution_count": 41,
   "metadata": {},
   "outputs": [],
   "source": [
    "spark = SparkSession \\\n",
    "        .builder \\\n",
    "        .master('local[*]') \\\n",
    "        .appName(\"NBCF_pyspark\") \\\n",
    "        .getOrCreate()"
   ]
  },
  {
   "cell_type": "code",
   "execution_count": 42,
   "metadata": {},
   "outputs": [],
   "source": [
    "# Load training data\n",
    "train = spark.sparkContext.textFile(\"ml-100k/ub.base\")"
   ]
  },
  {
   "cell_type": "code",
   "execution_count": 43,
   "metadata": {},
   "outputs": [
    {
     "data": {
      "text/plain": [
       "[(1, (1, 5.0)), (1, (2, 3.0)), (1, (3, 4.0)), (1, (4, 3.0)), (1, (5, 3.0))]"
      ]
     },
     "execution_count": 43,
     "metadata": {},
     "output_type": "execute_result"
    }
   ],
   "source": [
    "# movieID => userID, rating\n",
    "train = train.map(lambda r: r.split()).map(lambda r: (int(r[1]), (int(r[0]), float(r[2]))))\n",
    "train.take(5)"
   ]
  },
  {
   "cell_type": "code",
   "execution_count": 44,
   "metadata": {},
   "outputs": [
    {
     "data": {
      "text/plain": [
       "[(2, 3.7115384615384617),\n",
       " (4, 4.285714285714286),\n",
       " (6, 3.63681592039801),\n",
       " (8, 3.7142857142857144),\n",
       " (10, 4.212643678160919)]"
      ]
     },
     "execution_count": 44,
     "metadata": {},
     "output_type": "execute_result"
    }
   ],
   "source": [
    "# Determine mean of ratings by user\n",
    "# movieID => mean\n",
    "sepOp = lambda x, y: (x[0]+y[1], x[1]+1)\n",
    "combOp = lambda x, y: (x[0]+y[0], x[1]+y[1])\n",
    "means = train.aggregateByKey((0, 0), sepOp, combOp).mapValues(lambda v: v[0]/v[1] if v[1] > 0 else 0)\n",
    "means.take(5)"
   ]
  },
  {
   "cell_type": "code",
   "execution_count": 45,
   "metadata": {},
   "outputs": [
    {
     "data": {
      "text/plain": [
       "[(50, (4, 0.7142857142857144)),\n",
       " (260, (4, -0.2857142857142856)),\n",
       " (264, (4, -1.2857142857142856)),\n",
       " (288, (4, -0.2857142857142856)),\n",
       " (294, (4, 0.7142857142857144))]"
      ]
     },
     "execution_count": 45,
     "metadata": {},
     "output_type": "execute_result"
    }
   ],
   "source": [
    "# userID => (movieID, rating_normalized)\n",
    "train = train.join(means).map(lambda r: (r[1][0][0], (r[0], r[1][0][1] - r[1][1])))\n",
    "train.take(5)"
   ]
  },
  {
   "cell_type": "code",
   "execution_count": 46,
   "metadata": {},
   "outputs": [
    {
     "data": {
      "text/plain": [
       "[((533, 919), 0.09467954935718614),\n",
       " ((347, 428), 0.08199338594799069),\n",
       " ((327, 584), 0.019261412549728893),\n",
       " ((280, 467), 0.006922332749699157),\n",
       " ((112, 319), 0.13830075422401594)]"
      ]
     },
     "execution_count": 46,
     "metadata": {},
     "output_type": "execute_result"
    }
   ],
   "source": [
    "# Create entries of coordinate matrix\n",
    "entries = train.map(lambda r: MatrixEntry(r[0], r[1][0], r[1][1]))\n",
    "# Convert to CoordinateMatrix => RowMatrix\n",
    "mat = CoordinateMatrix(entries).toRowMatrix()\n",
    "# Compute similarity of movie pairs\n",
    "moviePairSimilarities = mat.columnSimilarities().entries.map(lambda r: ((r.i, r.j), r.value))\n",
    "moviePairSimilarities.take(5)"
   ]
  },
  {
   "cell_type": "markdown",
   "metadata": {},
   "source": [
    "## Evaluate"
   ]
  },
  {
   "cell_type": "code",
   "execution_count": 47,
   "metadata": {},
   "outputs": [
    {
     "data": {
      "text/plain": [
       "9430"
      ]
     },
     "execution_count": 47,
     "metadata": {},
     "output_type": "execute_result"
    }
   ],
   "source": [
    "# Load testing data\n",
    "test = spark.sparkContext.textFile('ml-100k/ub.test')\n",
    "\n",
    "# movieY => (ratingX, ratingXY)\n",
    "test = test.map(lambda r: r.split()).map(lambda r: (int(r[1]), (int(r[0]), float(r[2])))).cache()\n",
    "n_test = test.count()\n",
    "n_test"
   ]
  },
  {
   "cell_type": "code",
   "execution_count": 48,
   "metadata": {},
   "outputs": [
    {
     "data": {
      "text/plain": [
       "[(11, (4, -0.2857142857142856)),\n",
       " (210, (4, -1.2857142857142856)),\n",
       " (258, (4, 0.7142857142857144)),\n",
       " (271, (4, -0.2857142857142856)),\n",
       " (300, (4, 0.7142857142857144))]"
      ]
     },
     "execution_count": 48,
     "metadata": {},
     "output_type": "execute_result"
    }
   ],
   "source": [
    "# Subtract rating to mean by movie\n",
    "# userX => (movieY, ratingXY)\n",
    "test = test.join(means).map(lambda r: (r[1][0][0], (r[0], r[1][0][1] - r[1][1])))\n",
    "test.take(5)"
   ]
  },
  {
   "cell_type": "code",
   "execution_count": 49,
   "metadata": {},
   "outputs": [
    {
     "data": {
      "text/plain": [
       "[(328, ((4, -1.2857142857142856), (12, -0.3170731707317076))),\n",
       " (328, ((4, -1.2857142857142856), (40, 0.1200000000000001))),\n",
       " (328, ((4, -1.2857142857142856), (44, 0.34751773049645385))),\n",
       " (328, ((4, -1.2857142857142856), (92, -0.24074074074074092))),\n",
       " (328, ((4, -1.2857142857142856), (100, 1.0)))]"
      ]
     },
     "execution_count": 49,
     "metadata": {},
     "output_type": "execute_result"
    }
   ],
   "source": [
    "# userX => ((movieY, ratingXY), (movieA, ratingXA)) - A is movieID rated by userX\n",
    "evaluate = test.join(train)\n",
    "evaluate.take(5)"
   ]
  },
  {
   "cell_type": "code",
   "execution_count": 50,
   "metadata": {},
   "outputs": [
    {
     "data": {
      "text/plain": [
       "[((4, 12), (0, 328, -1.2857142857142856, -0.3170731707317076)),\n",
       " ((4, 40), (0, 328, -1.2857142857142856, 0.1200000000000001)),\n",
       " ((4, 44), (0, 328, -1.2857142857142856, 0.34751773049645385)),\n",
       " ((4, 92), (0, 328, -1.2857142857142856, -0.24074074074074092)),\n",
       " ((4, 100), (0, 328, -1.2857142857142856, 1.0))]"
      ]
     },
     "execution_count": 50,
     "metadata": {},
     "output_type": "execute_result"
    }
   ],
   "source": [
    "# (movieY, movieA) => (i, userX, ratingXY, ratingXA) - i is index of movieY in key\n",
    "def map1(row):\n",
    "    userX, ((movieY, ratingXY), (movieA, ratingXA))= row\n",
    "    if movieY < movieA:\n",
    "        return (movieY, movieA), (0, userX, ratingXY, ratingXA)\n",
    "    return (movieA, movieY), (1, userX, ratingXY, ratingXA)\n",
    "\n",
    "evaluate = evaluate.map(map1)\n",
    "evaluate.take(5)"
   ]
  },
  {
   "cell_type": "code",
   "execution_count": 51,
   "metadata": {
    "scrolled": true
   },
   "outputs": [
    {
     "data": {
      "text/plain": [
       "[((328, 4, -1.2857142857142856), [(-0.2941176470588234, 0.04969766099345801)]),\n",
       " ((50, 46, -0.2941176470588234), [(0.7142857142857144, 0.04969766099345801)]),\n",
       " ((300, 4, 0.7142857142857144), [(-1.2941176470588234, 0.04969766099345801)]),\n",
       " ((294, 46, -2.2941176470588234), [(0.7142857142857144, 0.04969766099345801)]),\n",
       " ((328, 4, -1.2857142857142856),\n",
       "  [(0.34545454545454524, 0.025375575629938158)])]"
      ]
     },
     "execution_count": 51,
     "metadata": {},
     "output_type": "execute_result"
    }
   ],
   "source": [
    "# (movieY, movieA) => ((i, userX, ratingXY, ratingXA), simYA)\n",
    "evaluate = evaluate.join(moviePairSimilarities)\n",
    "\n",
    "# (userX, movieY, ratingXY) => [(ratingXA, simYA)]\n",
    "def map2(row):\n",
    "    (movieY, movieA), ((i, userX, ratingXY, ratingXA), simYA) = row\n",
    "    if i == 0:\n",
    "        return (userX, movieY, ratingXY), [(ratingXA, simYA)]\n",
    "    return (userX, movieA, ratingXY), [(ratingXA, simYA)]\n",
    "\n",
    "evaluate = evaluate.map(map2)\n",
    "evaluate.take(5)"
   ]
  },
  {
   "cell_type": "code",
   "execution_count": 52,
   "metadata": {},
   "outputs": [
    {
     "data": {
      "text/plain": [
       "((329, 4, 0.7142857142857144),\n",
       " [(-0.11111111111111116, 0.3683297467398866),\n",
       "  (1.75, 0.22430015382565205),\n",
       "  (-0.5443037974683542, 0.18288636474771272),\n",
       "  (-1.0, 0.1484556231305236),\n",
       "  (1.2840909090909092, 0.12151719767937197),\n",
       "  (0.4920634920634921, 0.10773811615029269),\n",
       "  (-0.2727272727272725, 0.09211323729436771),\n",
       "  (1.8533333333333335, 0.08416800120477495),\n",
       "  (-0.8780487804878048, 0.07946716792719163),\n",
       "  (-1.125531914893617, 0.07083103999447238),\n",
       "  (-0.5038167938931299, 0.05769022371430205),\n",
       "  (-0.9333333333333331, 0.026666856534601685),\n",
       "  (-0.00874635568513149, 0.02465735722819628),\n",
       "  (0.8048780487804876, 0.023037328706210346),\n",
       "  (1.1818181818181817, 0.020698732855892497),\n",
       "  (-0.9684210526315788, 0.016204391447096702),\n",
       "  (0.8936170212765959, 0.015295356037658522),\n",
       "  (0.30935251798561136, 0.013201408961738362),\n",
       "  (-0.8447204968944098, 0.01075828738303404),\n",
       "  (0.21478873239436602, 0.007622976051280709),\n",
       "  (-1.1006389776357826, 0.004049554215496449),\n",
       "  (0.6928104575163401, 0.0026961880988442856),\n",
       "  (-0.5405405405405403, -0.004096193691865757),\n",
       "  (0.2142857142857144, -0.005906415932819451),\n",
       "  (-0.1287878787878789, -0.006066433101805006),\n",
       "  (0.2142857142857144, -0.008179976204483831),\n",
       "  (0.5782122905027931, -0.010641664326418764),\n",
       "  (-0.9473684210526314, -0.012152401813431479),\n",
       "  (-0.053435114503816994, -0.013158398813051206),\n",
       "  (-2.4, -0.018634761276626326)])"
      ]
     },
     "execution_count": 52,
     "metadata": {},
     "output_type": "execute_result"
    }
   ],
   "source": [
    "# (userX, movieY, ratingXY) => [(ratingXA, simYA), (ratingXB, simYB), ...] - A,B is movieID rated by userX\n",
    "evaluate = evaluate.reduceByKey(lambda a, b: a + b)\n",
    "\n",
    "# Take top k movies greatest similarity\n",
    "k = 30\n",
    "evaluate = evaluate.mapValues(lambda l: sorted(l, key=lambda x: x[1], reverse=True)[:k])\n",
    "evaluate.first()"
   ]
  },
  {
   "cell_type": "code",
   "execution_count": 53,
   "metadata": {},
   "outputs": [
    {
     "data": {
      "text/plain": [
       "0.9737616732758234"
      ]
     },
     "execution_count": 53,
     "metadata": {},
     "output_type": "execute_result"
    }
   ],
   "source": [
    "# Predict rating and calculating RMSE\n",
    "def predict(row):\n",
    "    rating_ori = row[0][2]\n",
    "    val = np.array(row[1])\n",
    "    ratings = val[:,0]\n",
    "    sims = val[:,1]\n",
    "    rating_pred = np.dot(ratings, sims) / (np.abs(sims).sum() + 1e-8)\n",
    "    return (rating_pred - rating_ori)**2\n",
    "\n",
    "evaluate = evaluate.map(predict).reduce(lambda a, b: a + b)\n",
    "\n",
    "# Calculate RMSE\n",
    "RMSE = np.sqrt(evaluate/n_test)\n",
    "RMSE"
   ]
  }
 ],
 "metadata": {
  "kernelspec": {
   "display_name": "Python 3",
   "language": "python",
   "name": "python3"
  },
  "language_info": {
   "codemirror_mode": {
    "name": "ipython",
    "version": 3
   },
   "file_extension": ".py",
   "mimetype": "text/x-python",
   "name": "python",
   "nbconvert_exporter": "python",
   "pygments_lexer": "ipython3",
   "version": "3.6.5"
  }
 },
 "nbformat": 4,
 "nbformat_minor": 2
}
