{
 "cells": [
  {
   "cell_type": "markdown",
   "metadata": {},
   "source": [
    "## Training"
   ]
  },
  {
   "cell_type": "code",
   "execution_count": 101,
   "metadata": {},
   "outputs": [],
   "source": [
    "from math import sqrt\n",
    "import time\n",
    "from pyspark.sql import SparkSession\n",
    "import numpy as np"
   ]
  },
  {
   "cell_type": "code",
   "execution_count": 102,
   "metadata": {},
   "outputs": [],
   "source": [
    "spark = SparkSession \\\n",
    "        .builder \\\n",
    "        .master('local[*]') \\\n",
    "        .appName(\"MovieSimilarities\") \\\n",
    "        .getOrCreate()"
   ]
  },
  {
   "cell_type": "code",
   "execution_count": 103,
   "metadata": {},
   "outputs": [],
   "source": [
    "# Load training data\n",
    "train = spark.sparkContext.textFile(\"ml-100k/ub.base\")"
   ]
  },
  {
   "cell_type": "code",
   "execution_count": 104,
   "metadata": {},
   "outputs": [
    {
     "data": {
      "text/plain": [
       "[(1, (1, 5.0)), (1, (2, 3.0)), (1, (3, 4.0)), (1, (4, 3.0)), (1, (5, 3.0))]"
      ]
     },
     "execution_count": 104,
     "metadata": {},
     "output_type": "execute_result"
    }
   ],
   "source": [
    "# userID => movieID, rating\n",
    "train = train.map(lambda l: l.split()).map(lambda l: (int(l[0]), (int(l[1]), float(l[2]))))\n",
    "train.take(5)"
   ]
  },
  {
   "cell_type": "code",
   "execution_count": 105,
   "metadata": {},
   "outputs": [
    {
     "data": {
      "text/plain": [
       "[(4, ((50, 5.0), (260, 4.0))),\n",
       " (4, ((50, 5.0), (264, 3.0))),\n",
       " (4, ((50, 5.0), (288, 4.0))),\n",
       " (4, ((50, 5.0), (294, 5.0))),\n",
       " (4, ((50, 5.0), (301, 5.0)))]"
      ]
     },
     "execution_count": 105,
     "metadata": {},
     "output_type": "execute_result"
    }
   ],
   "source": [
    "def filterDuplicates(userRatings):\n",
    "    ratings = userRatings[1]\n",
    "    (movie1, rating1) = ratings[0]\n",
    "    (movie2, rating2) = ratings[1]\n",
    "    return movie1 < movie2\n",
    "\n",
    "# userID => ((movieID, rating), (movieID, rating))\n",
    "joinedRatings = train.join(train)\n",
    "uniqueJoinedRatings = joinedRatings.filter(filterDuplicates)\n",
    "uniqueJoinedRatings.take(5)"
   ]
  },
  {
   "cell_type": "code",
   "execution_count": 106,
   "metadata": {},
   "outputs": [
    {
     "data": {
      "text/plain": [
       "[((50, 260), (5.0, 4.0)),\n",
       " ((50, 264), (5.0, 3.0)),\n",
       " ((50, 288), (5.0, 4.0)),\n",
       " ((50, 294), (5.0, 5.0)),\n",
       " ((50, 301), (5.0, 5.0))]"
      ]
     },
     "execution_count": 106,
     "metadata": {},
     "output_type": "execute_result"
    }
   ],
   "source": [
    "def makePairs(userRatings):\n",
    "    ratings = userRatings[1]\n",
    "    (movie1, rating1) = ratings[0]\n",
    "    (movie2, rating2) = ratings[1]\n",
    "    return (movie1, movie2), (rating1, rating2)\n",
    "\n",
    "# (movie1, movie2) => (rating1, rating2)\n",
    "moviePairs = uniqueJoinedRatings.map(makePairs)\n",
    "moviePairs.take(5)"
   ]
  },
  {
   "cell_type": "code",
   "execution_count": 107,
   "metadata": {},
   "outputs": [
    {
     "data": {
      "text/plain": [
       "[((50, 260), (0.8877236082822483, 75)),\n",
       " ((50, 264), (0.9482881919215416, 57)),\n",
       " ((50, 288), (0.9394779267044785, 223)),\n",
       " ((50, 356), (0.9463932391575332, 85)),\n",
       " ((50, 360), (0.9525793444156803, 4))]"
      ]
     },
     "execution_count": 107,
     "metadata": {},
     "output_type": "execute_result"
    }
   ],
   "source": [
    "# (movie1, movie2) = > (rating1, rating2), (rating1, rating2) ...\n",
    "moviePairRatings = moviePairs.groupByKey()\n",
    "\n",
    "def computeCosineSimilarity(ratingPairs):\n",
    "    numPairs = 0\n",
    "    sum_xx = sum_yy = sum_xy = 0\n",
    "    for ratingX, ratingY in ratingPairs:\n",
    "        sum_xx += ratingX * ratingX\n",
    "        sum_yy += ratingY * ratingY\n",
    "        sum_xy += ratingX * ratingY\n",
    "        numPairs += 1\n",
    "\n",
    "    numerator = sum_xy\n",
    "    denominator = sqrt(sum_xx) * sqrt(sum_yy)\n",
    "\n",
    "    score = 0\n",
    "    if denominator:\n",
    "        score = (numerator / (float(denominator)))\n",
    "\n",
    "    return score, numPairs\n",
    "\n",
    "# Calculate similariry each pairwirse\n",
    "moviePairSimilarities = moviePairRatings.mapValues(computeCosineSimilarity)\n",
    "moviePairSimilarities.take(5)"
   ]
  },
  {
   "cell_type": "markdown",
   "metadata": {},
   "source": [
    "## Evaluate"
   ]
  },
  {
   "cell_type": "code",
   "execution_count": 108,
   "metadata": {},
   "outputs": [
    {
     "data": {
      "text/plain": [
       "9430"
      ]
     },
     "execution_count": 108,
     "metadata": {},
     "output_type": "execute_result"
    }
   ],
   "source": [
    "# Load testing data\n",
    "test = spark.sparkContext.textFile('ml-100k/ub.test')\n",
    "\n",
    "# userX => (movieY, ratingXY)\n",
    "test = test.map(lambda l: l.split()).map(lambda l: (int(l[0]), (int(l[1]), float(l[2]))))\n",
    "n_test = test.count()\n",
    "n_test"
   ]
  },
  {
   "cell_type": "code",
   "execution_count": 109,
   "metadata": {},
   "outputs": [
    {
     "data": {
      "text/plain": [
       "[(4, ((11, 4.0), (50, 5.0))),\n",
       " (4, ((11, 4.0), (260, 4.0))),\n",
       " (4, ((11, 4.0), (264, 3.0))),\n",
       " (4, ((11, 4.0), (288, 4.0))),\n",
       " (4, ((11, 4.0), (294, 5.0)))]"
      ]
     },
     "execution_count": 109,
     "metadata": {},
     "output_type": "execute_result"
    }
   ],
   "source": [
    "# userX => ((movieY, ratingXY), (movieA, ratingXA)) - A is movieID rated by userX\n",
    "evaluate = test.join(train)\n",
    "evaluate.take(5)"
   ]
  },
  {
   "cell_type": "code",
   "execution_count": 110,
   "metadata": {},
   "outputs": [
    {
     "data": {
      "text/plain": [
       "[((11, 50), (0, 4, 4.0, 5.0)),\n",
       " ((11, 260), (0, 4, 4.0, 4.0)),\n",
       " ((11, 264), (0, 4, 4.0, 3.0)),\n",
       " ((11, 288), (0, 4, 4.0, 4.0)),\n",
       " ((11, 294), (0, 4, 4.0, 5.0))]"
      ]
     },
     "execution_count": 110,
     "metadata": {},
     "output_type": "execute_result"
    }
   ],
   "source": [
    "# (movieY, movieA) => (i, userX, ratingXY, ratingXA) - i is index of movieY in key\n",
    "def map1(row):\n",
    "    userX, ((movieY, ratingXY), (movieA, ratingXA))= row\n",
    "    if movieY < movieA:\n",
    "        return (movieY, movieA), (0, userX, ratingXY, ratingXA)\n",
    "    return (movieA, movieY), (1, userX, ratingXY, ratingXA)\n",
    "\n",
    "evaluate = evaluate.map(map1)\n",
    "evaluate.take(5)"
   ]
  },
  {
   "cell_type": "code",
   "execution_count": 111,
   "metadata": {
    "scrolled": true
   },
   "outputs": [
    {
     "data": {
      "text/plain": [
       "[((4, 11, 4.0), [(5.0, 0.9352046336456875)]),\n",
       " ((329, 303, 4.0), [(3.0, 0.9352046336456875)]),\n",
       " ((747, 303, 5.0), [(5.0, 0.9352046336456875)]),\n",
       " ((4, 210, 3.0), [(3.0, 0.9555336474456124)]),\n",
       " ((416, 210, 5.0), [(3.0, 0.9555336474456124)])]"
      ]
     },
     "execution_count": 111,
     "metadata": {},
     "output_type": "execute_result"
    }
   ],
   "source": [
    "# (movieY, movieA) => ((i, userX, ratingXY, ratingXA), (simYA, numPairsYA))\n",
    "evaluate = evaluate.join(moviePairSimilarities)\n",
    "\n",
    "# (userX, movieY, ratingXY) => [(ratingXA, simYA)]\n",
    "def map2(row):\n",
    "    (movieY, movieA), ((i, userX, ratingXY, ratingXA), (simYA, numPairsYA)) = row\n",
    "    if i == 0:\n",
    "        return (userX, movieY, ratingXY), [(ratingXA, simYA)]\n",
    "    return (userX, movieA, ratingXY), [(ratingXA, simYA)]\n",
    "\n",
    "evaluate = evaluate.map(map2)\n",
    "evaluate.take(5)"
   ]
  },
  {
   "cell_type": "code",
   "execution_count": 112,
   "metadata": {},
   "outputs": [
    {
     "data": {
      "text/plain": [
       "((4, 11, 4.0),\n",
       " [(5.0, 1.0),\n",
       "  (5.0, 0.9733262629940814),\n",
       "  (4.0, 0.9622310914738059),\n",
       "  (4.0, 0.957818989314913),\n",
       "  (3.0, 0.9496642341028995),\n",
       "  (5.0, 0.9471077725614722),\n",
       "  (5.0, 0.9352046336456875),\n",
       "  (5.0, 0.9343415753188752),\n",
       "  (3.0, 0.9316832141110515),\n",
       "  (5.0, 0.9157349380502997),\n",
       "  (2.0, 0.9068877544453096),\n",
       "  (4.0, 0.8845187867317229),\n",
       "  (5.0, 0.8508495020317434),\n",
       "  (5.0, 0.8221921916437785)])"
      ]
     },
     "execution_count": 112,
     "metadata": {},
     "output_type": "execute_result"
    }
   ],
   "source": [
    "# (userX, movieY, ratingXY) => [(ratingXA, simYA), (ratingXB, simYB), ...] - A,B is movieID rated by userX\n",
    "evaluate = evaluate.reduceByKey(lambda a, b: a + b)\n",
    "\n",
    "# Take top k movies greatest similarity\n",
    "k = 30\n",
    "evaluate = evaluate.mapValues(lambda l: sorted(l, key=lambda x: x[1], reverse=True)[:k])\n",
    "evaluate.first()"
   ]
  },
  {
   "cell_type": "code",
   "execution_count": 113,
   "metadata": {},
   "outputs": [
    {
     "data": {
      "text/plain": [
       "1.0433581643686343"
      ]
     },
     "execution_count": 113,
     "metadata": {},
     "output_type": "execute_result"
    }
   ],
   "source": [
    "# Predict rating and calculating RMSE\n",
    "def predict(row):\n",
    "    rating_ori = row[0][2]\n",
    "    val = np.array(row[1])\n",
    "    ratings = val[:,0]\n",
    "    sims = val[:,1]\n",
    "    rating_pred = np.dot(ratings, sims) / (np.abs(sims).sum() + 1e-8)\n",
    "    return (rating_pred - rating_ori)**2\n",
    "\n",
    "evaluate = evaluate.map(predict).reduce(lambda a, b: a + b)\n",
    "\n",
    "# Calculate RMSE\n",
    "RMSE = np.sqrt(evaluate/n_test)\n",
    "RMSE"
   ]
  },
  {
   "cell_type": "code",
   "execution_count": null,
   "metadata": {},
   "outputs": [],
   "source": []
  }
 ],
 "metadata": {
  "kernelspec": {
   "display_name": "Python 3",
   "language": "python",
   "name": "python3"
  },
  "language_info": {
   "codemirror_mode": {
    "name": "ipython",
    "version": 3
   },
   "file_extension": ".py",
   "mimetype": "text/x-python",
   "name": "python",
   "nbconvert_exporter": "python",
   "pygments_lexer": "ipython3",
   "version": "3.6.5"
  }
 },
 "nbformat": 4,
 "nbformat_minor": 2
}
